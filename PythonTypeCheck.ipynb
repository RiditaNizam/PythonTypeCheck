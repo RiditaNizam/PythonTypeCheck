{
  "nbformat": 4,
  "nbformat_minor": 0,
  "metadata": {
    "colab": {
      "name": "PythonTypeCheck.ipynb",
      "provenance": [],
      "collapsed_sections": [],
      "mount_file_id": "1orBG12Vrn2SnLX8q7QdBIFdG7xsruZhO",
      "authorship_tag": "ABX9TyOYC6Gl5G5HS3RBYmaXh10s",
      "include_colab_link": true
    },
    "kernelspec": {
      "name": "python3",
      "display_name": "Python 3"
    },
    "language_info": {
      "name": "python"
    }
  },
  "cells": [
    {
      "cell_type": "markdown",
      "metadata": {
        "id": "view-in-github",
        "colab_type": "text"
      },
      "source": [
        "<a href=\"https://colab.research.google.com/github/RiditaNizam/PythonTypeCheck/blob/main/PythonTypeCheck.ipynb\" target=\"_parent\"><img src=\"https://colab.research.google.com/assets/colab-badge.svg\" alt=\"Open In Colab\"/></a>"
      ]
    },
    {
      "cell_type": "code",
      "metadata": {
        "colab": {
          "base_uri": "https://localhost:8080/"
        },
        "id": "ft7L26by0yzV",
        "outputId": "d180104b-a851-4f2a-db43-b289411b59a3"
      },
      "source": [
        "# Checking class types and instances\n",
        "class Book:\n",
        "    def __init__(self, title):\n",
        "        self.title = title\n",
        "\n",
        "\n",
        "class Magazine:\n",
        "    def __init__(self, name):\n",
        "        self.name = name\n",
        "\n",
        "\n",
        "# Create some instances of the classes\n",
        "b1 = Book(\"Quran\")\n",
        "b2 = Book(\"A Thousand Splendid Suns\")\n",
        "m1 = Magazine(\"Cosmopolitan\")\n",
        "m2 = Magazine(\"Atlantic\")\n",
        "\n",
        "# Use type() to inspect the object type\n",
        "print(type(b1))\n",
        "print(type(m1))\n",
        "\n",
        "# Compare two types together\n",
        "print(type(b1) == type(b2))\n",
        "print(type(b1) == type(m1))\n",
        "\n",
        "# Use isinstance to compare a specific instance to a known type\n",
        "print(isinstance(b1, Book), \"A book object is an instance of Book\")\n",
        "print(isinstance(m1, Magazine), \"A magazine object is an instance of a N\")\n",
        "print(isinstance(m2, Book), \"A magazine is not a Book\")\n",
        "print(isinstance(b1, object), \"A book is an object\")"
      ],
      "execution_count": 8,
      "outputs": [
        {
          "output_type": "stream",
          "name": "stdout",
          "text": [
            "<class '__main__.Book'>\n",
            "<class '__main__.Magazine'>\n",
            "True\n",
            "False\n",
            "True A book object is an instance of Book\n",
            "True A magazine object is an instance of a N\n",
            "False A magazine is not a Book\n",
            "True A book is an object\n"
          ]
        }
      ]
    }
  ]
}